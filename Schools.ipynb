{
 "cells": [
  {
   "cell_type": "markdown",
   "metadata": {},
   "source": [
    "# Read in the data"
   ]
  },
  {
   "cell_type": "code",
   "execution_count": 2,
   "metadata": {
    "collapsed": false
   },
   "outputs": [],
   "source": [
    "import pandas\n",
    "import numpy\n",
    "import re\n",
    "from mpl_toolkits.basemap import Basemap\n",
    "import matplotlib.pyplot as plt\n",
    "data_files = [\n",
    "    \"ap_2010.csv\",\n",
    "    \"class_size.csv\",\n",
    "    \"demographics.csv\",\n",
    "    \"graduation.csv\",\n",
    "    \"hs_directory.csv\",\n",
    "    \"sat_results.csv\"\n",
    "]\n",
    "\n",
    "data = {}\n",
    "\n",
    "for f in data_files:\n",
    "    d = pandas.read_csv(\"schools/{0}\".format(f))\n",
    "    data[f.replace(\".csv\", \"\")] = d"
   ]
  },
  {
   "cell_type": "markdown",
   "metadata": {},
   "source": [
    "# Read in the surveys"
   ]
  },
  {
   "cell_type": "code",
   "execution_count": 3,
   "metadata": {
    "collapsed": true
   },
   "outputs": [],
   "source": [
    "all_survey = pandas.read_csv(\"schools/survey_all.txt\", delimiter=\"\\t\", encoding='windows-1252')\n",
    "d75_survey = pandas.read_csv(\"schools/survey_d75.txt\", delimiter=\"\\t\", encoding='windows-1252')\n",
    "survey = pandas.concat([all_survey, d75_survey], axis=0)\n",
    "\n",
    "survey[\"DBN\"] = survey[\"dbn\"]\n",
    "\n",
    "survey_fields = [\n",
    "    \"DBN\", \n",
    "    \"rr_s\", \n",
    "    \"rr_t\", \n",
    "    \"rr_p\", \n",
    "    \"N_s\", \n",
    "    \"N_t\", \n",
    "    \"N_p\", \n",
    "    \"saf_p_11\", \n",
    "    \"com_p_11\", \n",
    "    \"eng_p_11\", \n",
    "    \"aca_p_11\", \n",
    "    \"saf_t_11\", \n",
    "    \"com_t_11\", \n",
    "    \"eng_t_10\", \n",
    "    \"aca_t_11\", \n",
    "    \"saf_s_11\", \n",
    "    \"com_s_11\", \n",
    "    \"eng_s_11\", \n",
    "    \"aca_s_11\", \n",
    "    \"saf_tot_11\", \n",
    "    \"com_tot_11\", \n",
    "    \"eng_tot_11\", \n",
    "    \"aca_tot_11\",\n",
    "]\n",
    "survey = survey.loc[:,survey_fields]\n",
    "data[\"survey\"] = survey"
   ]
  },
  {
   "cell_type": "markdown",
   "metadata": {},
   "source": [
    "# Add DBN columns"
   ]
  },
  {
   "cell_type": "code",
   "execution_count": 4,
   "metadata": {
    "collapsed": true
   },
   "outputs": [],
   "source": [
    "data[\"hs_directory\"][\"DBN\"] = data[\"hs_directory\"][\"dbn\"]\n",
    "\n",
    "def pad_csd(num):\n",
    "    string_representation = str(num)\n",
    "    if len(string_representation) > 1:\n",
    "        return string_representation\n",
    "    else:\n",
    "        return \"0\" + string_representation\n",
    "    \n",
    "data[\"class_size\"][\"padded_csd\"] = data[\"class_size\"][\"CSD\"].apply(pad_csd)\n",
    "data[\"class_size\"][\"DBN\"] = data[\"class_size\"][\"padded_csd\"] + data[\"class_size\"][\"SCHOOL CODE\"]"
   ]
  },
  {
   "cell_type": "markdown",
   "metadata": {},
   "source": [
    "# Convert columns to numeric"
   ]
  },
  {
   "cell_type": "code",
   "execution_count": 5,
   "metadata": {
    "collapsed": true
   },
   "outputs": [],
   "source": [
    "cols = ['SAT Math Avg. Score', 'SAT Critical Reading Avg. Score', 'SAT Writing Avg. Score']\n",
    "for c in cols:\n",
    "    data[\"sat_results\"][c] = pandas.to_numeric(data[\"sat_results\"][c], errors=\"coerce\")\n",
    "\n",
    "data['sat_results']['sat_score'] = data['sat_results'][cols[0]] + data['sat_results'][cols[1]] + data['sat_results'][cols[2]]\n",
    "\n",
    "def find_lat(loc):\n",
    "    coords = re.findall(\"\\(.+, .+\\)\", loc)\n",
    "    lat = coords[0].split(\",\")[0].replace(\"(\", \"\")\n",
    "    return lat\n",
    "\n",
    "def find_lon(loc):\n",
    "    coords = re.findall(\"\\(.+, .+\\)\", loc)\n",
    "    lon = coords[0].split(\",\")[1].replace(\")\", \"\").strip()\n",
    "    return lon\n",
    "\n",
    "data[\"hs_directory\"][\"lat\"] = data[\"hs_directory\"][\"Location 1\"].apply(find_lat)\n",
    "data[\"hs_directory\"][\"lon\"] = data[\"hs_directory\"][\"Location 1\"].apply(find_lon)\n",
    "\n",
    "data[\"hs_directory\"][\"lat\"] = pandas.to_numeric(data[\"hs_directory\"][\"lat\"], errors=\"coerce\")\n",
    "data[\"hs_directory\"][\"lon\"] = pandas.to_numeric(data[\"hs_directory\"][\"lon\"], errors=\"coerce\")"
   ]
  },
  {
   "cell_type": "markdown",
   "metadata": {},
   "source": [
    "# Condense datasets"
   ]
  },
  {
   "cell_type": "code",
   "execution_count": 6,
   "metadata": {
    "collapsed": true
   },
   "outputs": [],
   "source": [
    "class_size = data[\"class_size\"]\n",
    "class_size = class_size[class_size[\"GRADE \"] == \"09-12\"]\n",
    "class_size = class_size[class_size[\"PROGRAM TYPE\"] == \"GEN ED\"]\n",
    "\n",
    "class_size = class_size.groupby(\"DBN\").agg(numpy.mean)\n",
    "class_size.reset_index(inplace=True)\n",
    "data[\"class_size\"] = class_size\n",
    "\n",
    "data[\"demographics\"] = data[\"demographics\"][data[\"demographics\"][\"schoolyear\"] == 20112012]\n",
    "\n",
    "data[\"graduation\"] = data[\"graduation\"][data[\"graduation\"][\"Cohort\"] == \"2006\"]\n",
    "data[\"graduation\"] = data[\"graduation\"][data[\"graduation\"][\"Demographic\"] == \"Total Cohort\"]"
   ]
  },
  {
   "cell_type": "markdown",
   "metadata": {},
   "source": [
    "# Convert AP scores to numeric"
   ]
  },
  {
   "cell_type": "code",
   "execution_count": 7,
   "metadata": {
    "collapsed": true
   },
   "outputs": [],
   "source": [
    "cols = ['AP Test Takers ', 'Total Exams Taken', 'Number of Exams with scores 3 4 or 5']\n",
    "\n",
    "for col in cols:\n",
    "    data[\"ap_2010\"][col] = pandas.to_numeric(data[\"ap_2010\"][col], errors=\"coerce\")"
   ]
  },
  {
   "cell_type": "markdown",
   "metadata": {},
   "source": [
    "# Combine the datasets"
   ]
  },
  {
   "cell_type": "code",
   "execution_count": 8,
   "metadata": {
    "collapsed": true
   },
   "outputs": [],
   "source": [
    "combined = data[\"sat_results\"]\n",
    "\n",
    "combined = combined.merge(data[\"ap_2010\"], on=\"DBN\", how=\"left\")\n",
    "combined = combined.merge(data[\"graduation\"], on=\"DBN\", how=\"left\")\n",
    "\n",
    "to_merge = [\"class_size\", \"demographics\", \"survey\", \"hs_directory\"]\n",
    "\n",
    "for m in to_merge:\n",
    "    combined = combined.merge(data[m], on=\"DBN\", how=\"inner\")\n",
    "\n",
    "combined = combined.fillna(combined.mean())\n",
    "combined = combined.fillna(0)"
   ]
  },
  {
   "cell_type": "markdown",
   "metadata": {},
   "source": [
    "# Add a school district column for mapping"
   ]
  },
  {
   "cell_type": "code",
   "execution_count": 9,
   "metadata": {
    "collapsed": true
   },
   "outputs": [],
   "source": [
    "def get_first_two_chars(dbn):\n",
    "    return dbn[0:2]\n",
    "\n",
    "combined[\"school_dist\"] = combined[\"DBN\"].apply(get_first_two_chars)"
   ]
  },
  {
   "cell_type": "markdown",
   "metadata": {},
   "source": [
    "# Find correlations"
   ]
  },
  {
   "cell_type": "code",
   "execution_count": 10,
   "metadata": {
    "collapsed": false
   },
   "outputs": [
    {
     "name": "stdout",
     "output_type": "stream",
     "text": [
      "SAT Critical Reading Avg. Score         0.986820\n",
      "SAT Math Avg. Score                     0.972643\n",
      "SAT Writing Avg. Score                  0.987771\n",
      "sat_score                               1.000000\n",
      "AP Test Takers                          0.523140\n",
      "Total Exams Taken                       0.514333\n",
      "Number of Exams with scores 3 4 or 5    0.463245\n",
      "Total Cohort                            0.325144\n",
      "CSD                                     0.042948\n",
      "NUMBER OF STUDENTS / SEATS FILLED       0.394626\n",
      "NUMBER OF SECTIONS                      0.362673\n",
      "AVERAGE CLASS SIZE                      0.381014\n",
      "SIZE OF SMALLEST CLASS                  0.249949\n",
      "SIZE OF LARGEST CLASS                   0.314434\n",
      "SCHOOLWIDE PUPIL-TEACHER RATIO               NaN\n",
      "schoolyear                                   NaN\n",
      "fl_percent                                   NaN\n",
      "frl_percent                            -0.722225\n",
      "total_enrollment                        0.367857\n",
      "ell_num                                -0.153778\n",
      "ell_percent                            -0.398750\n",
      "sped_num                                0.034933\n",
      "sped_percent                           -0.448170\n",
      "asian_num                               0.475445\n",
      "asian_per                               0.570730\n",
      "black_num                               0.027979\n",
      "black_per                              -0.284139\n",
      "hispanic_num                            0.025744\n",
      "hispanic_per                           -0.396985\n",
      "white_num                               0.449559\n",
      "                                          ...   \n",
      "rr_p                                    0.047925\n",
      "N_s                                     0.423463\n",
      "N_t                                     0.291463\n",
      "N_p                                     0.421530\n",
      "saf_p_11                                0.122913\n",
      "com_p_11                               -0.115073\n",
      "eng_p_11                                0.020254\n",
      "aca_p_11                                0.035155\n",
      "saf_t_11                                0.313810\n",
      "com_t_11                                0.082419\n",
      "eng_t_10                                     NaN\n",
      "aca_t_11                                0.132348\n",
      "saf_s_11                                0.337639\n",
      "com_s_11                                0.187370\n",
      "eng_s_11                                0.213822\n",
      "aca_s_11                                0.339435\n",
      "saf_tot_11                              0.318753\n",
      "com_tot_11                              0.077310\n",
      "eng_tot_11                              0.100102\n",
      "aca_tot_11                              0.190966\n",
      "grade_span_max                               NaN\n",
      "expgrade_span_max                            NaN\n",
      "zip                                    -0.063977\n",
      "total_students                          0.407827\n",
      "number_programs                         0.117012\n",
      "priority08                                   NaN\n",
      "priority09                                   NaN\n",
      "priority10                                   NaN\n",
      "lat                                    -0.121029\n",
      "lon                                    -0.132222\n",
      "Name: sat_score, dtype: float64\n"
     ]
    }
   ],
   "source": [
    "correlations = combined.corr()\n",
    "correlations = correlations[\"sat_score\"]\n",
    "print(correlations)"
   ]
  },
  {
   "cell_type": "code",
   "execution_count": 11,
   "metadata": {
    "collapsed": false
   },
   "outputs": [
    {
     "data": {
      "image/png": "[encoded data removed]",
      "text/plain": [
       "<matplotlib.figure.Figure at 0x7f6fe5979080>"
      ]
     },
     "metadata": {},
     "output_type": "display_data"
    }
   ],
   "source": [
    "%matplotlib inline\n",
    "survey_corr = combined.corr()['sat_score'][survey_fields].plot.bar()\n",
    "plt.show()"
   ]
  },
  {
   "cell_type": "markdown",
   "metadata": {
    "collapsed": true
   },
   "source": [
    "rr_s being the student respnse rate has the strongest positive correlation with the SAT results. That shows that students' voice is the most important"
   ]
  },
  {
   "cell_type": "code",
   "execution_count": 12,
   "metadata": {
    "collapsed": false
   },
   "outputs": [
    {
     "data": {
      "text/plain": [
       "<matplotlib.collections.PathCollection at 0x7f6fe59e7f98>"
      ]
     },
     "execution_count": 12,
     "metadata": {},
     "output_type": "execute_result"
    },
    {
     "data": {
      "image/png": "[encoded data removed]",
      "text/plain": [
       "<matplotlib.figure.Figure at 0x7f6fe59a39e8>"
      ]
     },
     "metadata": {},
     "output_type": "display_data"
    }
   ],
   "source": [
    "fig,ax = plt.subplots()\n",
    "ax.scatter(combined['saf_s_11'],combined['sat_score'])"
   ]
  },
  {
   "cell_type": "code",
   "execution_count": 13,
   "metadata": {
    "collapsed": false
   },
   "outputs": [
    {
     "data": {
      "image/png": "[encoded data removed]",
      "text/plain": [
       "<matplotlib.figure.Figure at 0x7f6fe5990668>"
      ]
     },
     "metadata": {},
     "output_type": "display_data"
    }
   ],
   "source": [
    "safety = ['saf_s_11','saf_p_11','saf_t_11','saf_tot_11']\n",
    "\n",
    "districts = combined.groupby('school_dist').agg(numpy.mean)\n",
    "districts.reset_index(inplace=True)\n",
    "m = Basemap(projection='merc', \n",
    "    llcrnrlat=40.496044, \n",
    "    urcrnrlat=40.915256, \n",
    "    llcrnrlon=-74.255735, \n",
    "    urcrnrlon=-73.700272,\n",
    "    resolution='i')\n",
    "m.drawmapboundary(fill_color='#85A6D9')\n",
    "m.drawcoastlines(color='#6D5F47', linewidth=.4)\n",
    "m.drawrivers(color='#6D5F47', linewidth=.4)\n",
    "m.fillcontinents(color='white',lake_color='#85A6D9')\n",
    "latitudes = districts['lat'].tolist()\n",
    "longitudes = districts['lon'].tolist()\n",
    "m.scatter(longitudes,latitudes,\n",
    "          latlon=True,s=100,zorder=2,\n",
    "          c=districts['saf_s_11'],\n",
    "         cmap='summer')\n",
    "plt.show()"
   ]
  },
  {
   "cell_type": "code",
   "execution_count": 14,
   "metadata": {
    "collapsed": false
   },
   "outputs": [
    {
     "data": {
      "text/plain": [
       "<matplotlib.axes._subplots.AxesSubplot at 0x7f6fe59a0c50>"
      ]
     },
     "execution_count": 14,
     "metadata": {},
     "output_type": "execute_result"
    },
    {
     "data": {
      "image/png": "[encoded data removed]",
      "text/plain": [
       "<matplotlib.figure.Figure at 0x7f6fe59ec7f0>"
      ]
     },
     "metadata": {},
     "output_type": "display_data"
    }
   ],
   "source": [
    "race = ['white_per','asian_per','black_per','hispanic_per']\n",
    "combined.corr()['sat_score'][race].plot.bar()\n"
   ]
  },
  {
   "cell_type": "code",
   "execution_count": 15,
   "metadata": {
    "collapsed": false
   },
   "outputs": [
    {
     "data": {
      "text/plain": [
       "<matplotlib.text.Text at 0x7f6fe59db6a0>"
      ]
     },
     "execution_count": 15,
     "metadata": {},
     "output_type": "execute_result"
    },
    {
     "data": {
      "image/png": "[encoded data removed]",
      "text/plain": [
       "<matplotlib.figure.Figure at 0x7f6fe53c14e0>"
      ]
     },
     "metadata": {},
     "output_type": "display_data"
    }
   ],
   "source": [
    "fig,ax = plt.subplots()\n",
    "ax.scatter(combined['hispanic_per'],combined['sat_score'])\n",
    "ax.set_xlabel('hispanic_per')\n",
    "ax.set_ylabel('sat_score')"
   ]
  },
  {
   "cell_type": "markdown",
   "metadata": {},
   "source": [
    "The last graphs show how unfair the US SAT system is. It clearly shows that racism is still a big concern in the USA"
   ]
  },
  {
   "cell_type": "code",
   "execution_count": 16,
   "metadata": {
    "collapsed": true
   },
   "outputs": [],
   "source": [
    "schools_greater_hisp = combined[combined['hispanic_per']>95]"
   ]
  },
  {
   "cell_type": "code",
   "execution_count": 17,
   "metadata": {
    "collapsed": false
   },
   "outputs": [
    {
     "name": "stdout",
     "output_type": "stream",
     "text": [
      "44                         MANHATTAN BRIDGES HIGH SCHOOL\n",
      "82      WASHINGTON HEIGHTS EXPEDITIONARY LEARNING SCHOOL\n",
      "89     GREGORIO LUPERON HIGH SCHOOL FOR SCIENCE AND M...\n",
      "125                  ACADEMY FOR LANGUAGE AND TECHNOLOGY\n",
      "141                INTERNATIONAL SCHOOL FOR LIBERAL ARTS\n",
      "176     PAN AMERICAN INTERNATIONAL HIGH SCHOOL AT MONROE\n",
      "253                            MULTICULTURAL HIGH SCHOOL\n",
      "286               PAN AMERICAN INTERNATIONAL HIGH SCHOOL\n",
      "Name: SCHOOL NAME, dtype: object\n"
     ]
    }
   ],
   "source": [
    "print(schools_greater_hisp['SCHOOL NAME'])"
   ]
  },
  {
   "cell_type": "markdown",
   "metadata": {},
   "source": [
    "After researching the schools with above 95% of hispanics, my previous conclusion might be wrong. It appears that these schools primarely teach recent US immigrants with low level of English language, which could explain the lower SAT results."
   ]
  },
  {
   "cell_type": "code",
   "execution_count": 18,
   "metadata": {
    "collapsed": false
   },
   "outputs": [],
   "source": [
    "schools_low_hisp = combined[(combined['hispanic_per']<10) & \n",
    "                           (combined['sat_score']>1800)]"
   ]
  },
  {
   "cell_type": "code",
   "execution_count": 19,
   "metadata": {
    "collapsed": false
   },
   "outputs": [
    {
     "data": {
      "text/plain": [
       "37                                STUYVESANT HIGH SCHOOL\n",
       "151                         BRONX HIGH SCHOOL OF SCIENCE\n",
       "187                       BROOKLYN TECHNICAL HIGH SCHOOL\n",
       "327    QUEENS HIGH SCHOOL FOR THE SCIENCES AT YORK CO...\n",
       "356                  STATEN ISLAND TECHNICAL HIGH SCHOOL\n",
       "Name: SCHOOL NAME, dtype: object"
      ]
     },
     "execution_count": 19,
     "metadata": {},
     "output_type": "execute_result"
    }
   ],
   "source": [
    "schools_low_hisp['SCHOOL NAME']"
   ]
  },
  {
   "cell_type": "code",
   "execution_count": 20,
   "metadata": {
    "collapsed": false
   },
   "outputs": [
    {
     "data": {
      "text/plain": [
       "<matplotlib.axes._subplots.AxesSubplot at 0x7f6fe5425550>"
      ]
     },
     "execution_count": 20,
     "metadata": {},
     "output_type": "execute_result"
    },
    {
     "data": {
      "image/png": "[encoded data removed]",
      "text/plain": [
       "<matplotlib.figure.Figure at 0x7f6fe5c67dd8>"
      ]
     },
     "metadata": {},
     "output_type": "display_data"
    }
   ],
   "source": [
    "combined.corr()['sat_score'][['male_per','female_per']].plot.bar()\n"
   ]
  },
  {
   "cell_type": "code",
   "execution_count": 21,
   "metadata": {
    "collapsed": false
   },
   "outputs": [
    {
     "data": {
      "text/plain": [
       "<matplotlib.axes._subplots.AxesSubplot at 0x7f6fe5c4b390>"
      ]
     },
     "execution_count": 21,
     "metadata": {},
     "output_type": "execute_result"
    },
    {
     "data": {
      "image/png": "[encoded data removed]",
      "text/plain": [
       "<matplotlib.figure.Figure at 0x7f6fe53be128>"
      ]
     },
     "metadata": {},
     "output_type": "display_data"
    }
   ],
   "source": [
    "combined.plot.scatter('sat_score','female_per')"
   ]
  },
  {
   "cell_type": "code",
   "execution_count": 29,
   "metadata": {
    "collapsed": false
   },
   "outputs": [
    {
     "name": "stdout",
     "output_type": "stream",
     "text": [
      "        DBN  CSD  NUMBER OF STUDENTS / SEATS FILLED  NUMBER OF SECTIONS  \\\n",
      "0    01M292    1                          88.000000            4.000000   \n",
      "1    01M332    1                          46.000000            2.000000   \n",
      "2    01M378    1                          33.000000            1.000000   \n",
      "3    01M448    1                         105.687500            4.750000   \n",
      "4    01M450    1                          57.600000            2.733333   \n",
      "5    01M458    1                          28.600000            1.200000   \n",
      "6    01M509    1                          69.642857            3.000000   \n",
      "7    01M515    1                         131.117647            5.529412   \n",
      "8    01M539    1                         156.368421            6.157895   \n",
      "9    01M650    1                          64.125000            2.937500   \n",
      "10   01M696    1                         214.166667           10.250000   \n",
      "11   02M047    2                          26.818182            1.636364   \n",
      "12   02M104    2                          97.500000            4.500000   \n",
      "13   02M126    2                         167.000000            6.000000   \n",
      "14   02M131    2                          18.666667            1.333333   \n",
      "15   02M255    2                          62.000000            2.000000   \n",
      "16   02M288    2                          88.500000            3.916667   \n",
      "17   02M294    2                          65.000000            4.357143   \n",
      "18   02M296    2                         100.000000            4.428571   \n",
      "19   02M298    2                          74.750000            3.625000   \n",
      "20   02M300    2                          62.250000            2.916667   \n",
      "21   02M303    2                          62.500000            3.000000   \n",
      "22   02M305    2                          77.375000            3.750000   \n",
      "23   02M308    2                          80.000000            3.916667   \n",
      "24   02M313    2                          49.571429            2.214286   \n",
      "25   02M316    2                          92.500000            3.583333   \n",
      "26   02M374    2                          89.928571            3.285714   \n",
      "27   02M376    2                         110.230769            3.538462   \n",
      "28   02M392    2                          57.714286            2.285714   \n",
      "29   02M393    2                         110.142857            5.000000   \n",
      "..      ...  ...                                ...                 ...   \n",
      "553  30Q575   30                         176.631579            5.789474   \n",
      "554  30Q580   30                          80.076923            3.846154   \n",
      "555  31R007   31                          57.250000            1.750000   \n",
      "556  31R027   31                          84.000000            3.000000   \n",
      "557  31R034   31                          44.000000            1.500000   \n",
      "558  31R047   31                         118.375000            4.375000   \n",
      "559  31R049   31                          69.000000            3.000000   \n",
      "560  31R061   31                          51.000000            2.000000   \n",
      "561  31R063   31                          11.000000            1.000000   \n",
      "562  31R064   31                          93.833333            3.833333   \n",
      "563  31R075   31                          89.000000            3.000000   \n",
      "564  31R080   31                         103.833333            3.444444   \n",
      "565  31R440   31                         826.388889           29.000000   \n",
      "566  31R445   31                         379.526316           13.631579   \n",
      "567  31R450   31                         516.705882           18.941176   \n",
      "568  31R455   31                         664.263158           21.368421   \n",
      "569  31R460   31                         542.263158           18.789474   \n",
      "570  31R470   31                          57.285714            2.857143   \n",
      "571  31R600   31                         276.800000            9.600000   \n",
      "572  31R605   31                         283.294118            9.529412   \n",
      "573  32K162   32                         232.000000            9.000000   \n",
      "574  32K377   32                          62.000000            2.000000   \n",
      "575  32K383   32                         154.666667            6.166667   \n",
      "576  32K403   32                          79.500000            3.500000   \n",
      "577  32K545   32                         150.941176            6.411765   \n",
      "578  32K549   32                          71.066667            3.266667   \n",
      "579  32K552   32                         102.375000            4.312500   \n",
      "580  32K554   32                          66.937500            3.812500   \n",
      "581  32K556   32                         132.333333            5.400000   \n",
      "582  32K564   32                         136.142857            5.428571   \n",
      "\n",
      "     AVERAGE CLASS SIZE  SIZE OF SMALLEST CLASS  SIZE OF LARGEST CLASS  \\\n",
      "0             22.564286               18.500000              26.571429   \n",
      "1             22.000000               21.000000              23.500000   \n",
      "2             33.000000               33.000000              33.000000   \n",
      "3             22.231250               18.250000              27.062500   \n",
      "4             21.200000               19.400000              22.866667   \n",
      "5             23.000000               22.600000              23.400000   \n",
      "6             23.571429               20.000000              27.357143   \n",
      "7             22.876471               15.764706              28.588235   \n",
      "8             25.510526               19.473684              31.210526   \n",
      "9             21.781250               18.687500              24.750000   \n",
      "10            20.975000               17.166667              24.250000   \n",
      "11            16.072727               15.090909              17.090909   \n",
      "12            21.250000               15.000000              26.500000   \n",
      "13            27.800000               25.000000              30.000000   \n",
      "14            14.000000               13.333333              14.666667   \n",
      "15            31.000000               31.000000              31.000000   \n",
      "16            22.683333               19.333333              26.166667   \n",
      "17            14.900000               12.285714              17.857143   \n",
      "18            22.964286               16.214286              27.571429   \n",
      "19            21.312500               18.000000              25.062500   \n",
      "20            22.641667               18.166667              27.583333   \n",
      "21            21.850000               18.500000              26.166667   \n",
      "22            20.800000               17.625000              24.000000   \n",
      "23            23.250000               20.750000              26.000000   \n",
      "24            21.921429               19.785714              24.071429   \n",
      "25            26.316667               23.500000              27.750000   \n",
      "26            27.207143               22.857143              30.571429   \n",
      "27            37.023077               25.846154              50.692308   \n",
      "28            25.257143               23.428571              27.000000   \n",
      "29            22.128571               16.142857              26.428571   \n",
      "..                  ...                     ...                    ...   \n",
      "553           31.094737               26.368421              34.157895   \n",
      "554           20.469231               17.307692              23.076923   \n",
      "555           34.200000               32.750000              34.750000   \n",
      "556           28.000000               23.000000              32.000000   \n",
      "557           27.500000               27.000000              28.000000   \n",
      "558           25.668750               20.125000              30.062500   \n",
      "559           23.000000               19.500000              25.500000   \n",
      "560           25.500000               23.000000              28.000000   \n",
      "561           11.000000               11.000000              11.000000   \n",
      "562           24.350000               20.250000              28.500000   \n",
      "563           29.700000               29.000000              30.000000   \n",
      "564           30.272222               24.611111              34.444444   \n",
      "565           28.200000               17.000000              34.555556   \n",
      "566           28.078947               17.736842              33.105263   \n",
      "567           27.311765               16.176471              33.882353   \n",
      "568           30.200000               21.894737              34.052632   \n",
      "569           29.247368               18.000000              34.210526   \n",
      "570           22.114286               19.428571              26.000000   \n",
      "571           28.280000               22.866667              31.866667   \n",
      "572           29.588235               21.294118              33.176471   \n",
      "573           25.800000               20.000000              30.000000   \n",
      "574           31.000000               30.000000              32.000000   \n",
      "575           26.733333               24.833333              30.333333   \n",
      "576           22.406250               18.437500              26.875000   \n",
      "577           22.958824               16.294118              28.529412   \n",
      "578           22.760000               19.866667              25.866667   \n",
      "579           23.900000               19.937500              28.000000   \n",
      "580           17.793750               14.750000              21.625000   \n",
      "581           25.060000               18.333333              30.000000   \n",
      "582           24.964286               20.071429              28.571429   \n",
      "\n",
      "     SCHOOLWIDE PUPIL-TEACHER RATIO  \n",
      "0                               NaN  \n",
      "1                               NaN  \n",
      "2                               NaN  \n",
      "3                               NaN  \n",
      "4                               NaN  \n",
      "5                               NaN  \n",
      "6                               NaN  \n",
      "7                               NaN  \n",
      "8                               NaN  \n",
      "9                               NaN  \n",
      "10                              NaN  \n",
      "11                              NaN  \n",
      "12                              NaN  \n",
      "13                              NaN  \n",
      "14                              NaN  \n",
      "15                              NaN  \n",
      "16                              NaN  \n",
      "17                              NaN  \n",
      "18                              NaN  \n",
      "19                              NaN  \n",
      "20                              NaN  \n",
      "21                              NaN  \n",
      "22                              NaN  \n",
      "23                              NaN  \n",
      "24                              NaN  \n",
      "25                              NaN  \n",
      "26                              NaN  \n",
      "27                              NaN  \n",
      "28                              NaN  \n",
      "29                              NaN  \n",
      "..                              ...  \n",
      "553                             NaN  \n",
      "554                             NaN  \n",
      "555                             NaN  \n",
      "556                             NaN  \n",
      "557                             NaN  \n",
      "558                             NaN  \n",
      "559                             NaN  \n",
      "560                             NaN  \n",
      "561                             NaN  \n",
      "562                             NaN  \n",
      "563                             NaN  \n",
      "564                             NaN  \n",
      "565                             NaN  \n",
      "566                             NaN  \n",
      "567                             NaN  \n",
      "568                             NaN  \n",
      "569                             NaN  \n",
      "570                             NaN  \n",
      "571                             NaN  \n",
      "572                             NaN  \n",
      "573                             NaN  \n",
      "574                             NaN  \n",
      "575                             NaN  \n",
      "576                             NaN  \n",
      "577                             NaN  \n",
      "578                             NaN  \n",
      "579                             NaN  \n",
      "580                             NaN  \n",
      "581                             NaN  \n",
      "582                             NaN  \n",
      "\n",
      "[583 rows x 8 columns]\n"
     ]
    }
   ],
   "source": [
    "print(data['class_size'])\n"
   ]
  },
  {
   "cell_type": "code",
   "execution_count": null,
   "metadata": {
    "collapsed": true
   },
   "outputs": [],
   "source": []
  }
 ],
 "metadata": {
  "kernelspec": {
   "display_name": "Python 3",
   "language": "python",
   "name": "python3"
  },
  "language_info": {
   "codemirror_mode": {
    "name": "ipython",
    "version": 3
   },
   "file_extension": ".py",
   "mimetype": "text/x-python",
   "name": "python",
   "nbconvert_exporter": "python",
   "pygments_lexer": "ipython3",
   "version": "3.4.3"
  }
 },
 "nbformat": 4,
 "nbformat_minor": 0
}
